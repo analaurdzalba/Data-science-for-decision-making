{
  "cells": [
    {
      "cell_type": "markdown",
      "metadata": {
        "id": "view-in-github",
        "colab_type": "text"
      },
      "source": [
        "<a href=\"https://colab.research.google.com/github/analaurdzalba/Data-science-for-decision-making/blob/main/lab8/rnn.ipynb\" target=\"_parent\"><img src=\"https://colab.research.google.com/assets/colab-badge.svg\" alt=\"Open In Colab\"/></a>"
      ]
    },
    {
      "cell_type": "markdown",
      "source": [
        "# Learning from Sequences: Timeseries and Text\n",
        "\n",
        "Created by Dr Ana Matran-Fernandez (amatra@essex.ac.uk) for CE888 (Data Science and Decision Making)\n",
        "\n",
        "This notebook accompanies lecture 8 and illustrates recurrent neural networks on an example of a timeseries (predicting tomorrow's temperature) and a classification problem on the IMDB text dataset."
      ],
      "metadata": {
        "id": "gS1IIAS-bcb-"
      }
    },
    {
      "cell_type": "markdown",
      "source": [
        "# Imports"
      ],
      "metadata": {
        "id": "0myiQp20cxRK"
      }
    },
    {
      "cell_type": "code",
      "execution_count": 1,
      "metadata": {
        "id": "1J0bYBQ7_a0L"
      },
      "outputs": [],
      "source": [
        "# imports\n",
        "import numpy as np\n",
        "import matplotlib.pyplot as plt\n",
        "import os\n",
        "import pandas as pd\n",
        "from sklearn.model_selection import train_test_split"
      ]
    },
    {
      "cell_type": "code",
      "execution_count": 2,
      "metadata": {
        "id": "U0NPDv7X_a0M"
      },
      "outputs": [],
      "source": [
        "# tensorflow imports\n",
        "from tensorflow import keras\n",
        "from keras import layers, models\n",
        "from keras.callbacks import EarlyStopping, ModelCheckpoint"
      ]
    },
    {
      "cell_type": "markdown",
      "source": [
        "# Timeseries"
      ],
      "metadata": {
        "id": "xaiw_VZjbtSH"
      }
    },
    {
      "cell_type": "code",
      "execution_count": 5,
      "metadata": {
        "colab": {
          "base_uri": "https://localhost:8080/",
          "height": 423
        },
        "id": "iA_R1Q-K_a0N",
        "outputId": "87a5d250-099d-4c9d-96a2-cc01d91bfd1a"
      },
      "outputs": [
        {
          "output_type": "execute_result",
          "data": {
            "text/plain": [
              "                  date  radiation_avg  precip  wind_avg  wind_max  temp_avg  \\\n",
              "0     14/05/2014 00:00            159     0.0       1.4       3.3     14.27   \n",
              "1     15/05/2014 00:00            280     0.0       0.6       2.3     13.51   \n",
              "2     16/05/2014 00:00            186     3.4       0.8       2.7     15.65   \n",
              "3     17/05/2014 00:00            221     0.0       1.0       3.3     17.46   \n",
              "4     18/05/2014 00:00            255     0.0       2.1       5.5     16.85   \n",
              "...                ...            ...     ...       ...       ...       ...   \n",
              "2551  17/05/2021 00:00            196     1.4       2.2       5.5     10.51   \n",
              "2552  17/05/2021 00:00            173     2.8       1.8       5.5     10.80   \n",
              "2553  18/05/2021 00:00            311     0.0       1.4       5.0     10.29   \n",
              "2554  19/05/2021 00:00            232     6.6       1.8       5.5     11.39   \n",
              "2555  20/05/2021 00:00             44     0.0       0.5       2.7      6.35   \n",
              "\n",
              "      humidity_avg  \n",
              "0            64.95  \n",
              "1            72.91  \n",
              "2            74.69  \n",
              "3            71.42  \n",
              "4            74.45  \n",
              "...            ...  \n",
              "2551         99.86  \n",
              "2552         99.86  \n",
              "2553         92.94  \n",
              "2554         90.32  \n",
              "2555         99.86  \n",
              "\n",
              "[2556 rows x 7 columns]"
            ],
            "text/html": [
              "\n",
              "  <div id=\"df-c532d90b-90fb-4d83-97e9-cdc7f8e75513\">\n",
              "    <div class=\"colab-df-container\">\n",
              "      <div>\n",
              "<style scoped>\n",
              "    .dataframe tbody tr th:only-of-type {\n",
              "        vertical-align: middle;\n",
              "    }\n",
              "\n",
              "    .dataframe tbody tr th {\n",
              "        vertical-align: top;\n",
              "    }\n",
              "\n",
              "    .dataframe thead th {\n",
              "        text-align: right;\n",
              "    }\n",
              "</style>\n",
              "<table border=\"1\" class=\"dataframe\">\n",
              "  <thead>\n",
              "    <tr style=\"text-align: right;\">\n",
              "      <th></th>\n",
              "      <th>date</th>\n",
              "      <th>radiation_avg</th>\n",
              "      <th>precip</th>\n",
              "      <th>wind_avg</th>\n",
              "      <th>wind_max</th>\n",
              "      <th>temp_avg</th>\n",
              "      <th>humidity_avg</th>\n",
              "    </tr>\n",
              "  </thead>\n",
              "  <tbody>\n",
              "    <tr>\n",
              "      <th>0</th>\n",
              "      <td>14/05/2014 00:00</td>\n",
              "      <td>159</td>\n",
              "      <td>0.0</td>\n",
              "      <td>1.4</td>\n",
              "      <td>3.3</td>\n",
              "      <td>14.27</td>\n",
              "      <td>64.95</td>\n",
              "    </tr>\n",
              "    <tr>\n",
              "      <th>1</th>\n",
              "      <td>15/05/2014 00:00</td>\n",
              "      <td>280</td>\n",
              "      <td>0.0</td>\n",
              "      <td>0.6</td>\n",
              "      <td>2.3</td>\n",
              "      <td>13.51</td>\n",
              "      <td>72.91</td>\n",
              "    </tr>\n",
              "    <tr>\n",
              "      <th>2</th>\n",
              "      <td>16/05/2014 00:00</td>\n",
              "      <td>186</td>\n",
              "      <td>3.4</td>\n",
              "      <td>0.8</td>\n",
              "      <td>2.7</td>\n",
              "      <td>15.65</td>\n",
              "      <td>74.69</td>\n",
              "    </tr>\n",
              "    <tr>\n",
              "      <th>3</th>\n",
              "      <td>17/05/2014 00:00</td>\n",
              "      <td>221</td>\n",
              "      <td>0.0</td>\n",
              "      <td>1.0</td>\n",
              "      <td>3.3</td>\n",
              "      <td>17.46</td>\n",
              "      <td>71.42</td>\n",
              "    </tr>\n",
              "    <tr>\n",
              "      <th>4</th>\n",
              "      <td>18/05/2014 00:00</td>\n",
              "      <td>255</td>\n",
              "      <td>0.0</td>\n",
              "      <td>2.1</td>\n",
              "      <td>5.5</td>\n",
              "      <td>16.85</td>\n",
              "      <td>74.45</td>\n",
              "    </tr>\n",
              "    <tr>\n",
              "      <th>...</th>\n",
              "      <td>...</td>\n",
              "      <td>...</td>\n",
              "      <td>...</td>\n",
              "      <td>...</td>\n",
              "      <td>...</td>\n",
              "      <td>...</td>\n",
              "      <td>...</td>\n",
              "    </tr>\n",
              "    <tr>\n",
              "      <th>2551</th>\n",
              "      <td>17/05/2021 00:00</td>\n",
              "      <td>196</td>\n",
              "      <td>1.4</td>\n",
              "      <td>2.2</td>\n",
              "      <td>5.5</td>\n",
              "      <td>10.51</td>\n",
              "      <td>99.86</td>\n",
              "    </tr>\n",
              "    <tr>\n",
              "      <th>2552</th>\n",
              "      <td>17/05/2021 00:00</td>\n",
              "      <td>173</td>\n",
              "      <td>2.8</td>\n",
              "      <td>1.8</td>\n",
              "      <td>5.5</td>\n",
              "      <td>10.80</td>\n",
              "      <td>99.86</td>\n",
              "    </tr>\n",
              "    <tr>\n",
              "      <th>2553</th>\n",
              "      <td>18/05/2021 00:00</td>\n",
              "      <td>311</td>\n",
              "      <td>0.0</td>\n",
              "      <td>1.4</td>\n",
              "      <td>5.0</td>\n",
              "      <td>10.29</td>\n",
              "      <td>92.94</td>\n",
              "    </tr>\n",
              "    <tr>\n",
              "      <th>2554</th>\n",
              "      <td>19/05/2021 00:00</td>\n",
              "      <td>232</td>\n",
              "      <td>6.6</td>\n",
              "      <td>1.8</td>\n",
              "      <td>5.5</td>\n",
              "      <td>11.39</td>\n",
              "      <td>90.32</td>\n",
              "    </tr>\n",
              "    <tr>\n",
              "      <th>2555</th>\n",
              "      <td>20/05/2021 00:00</td>\n",
              "      <td>44</td>\n",
              "      <td>0.0</td>\n",
              "      <td>0.5</td>\n",
              "      <td>2.7</td>\n",
              "      <td>6.35</td>\n",
              "      <td>99.86</td>\n",
              "    </tr>\n",
              "  </tbody>\n",
              "</table>\n",
              "<p>2556 rows × 7 columns</p>\n",
              "</div>\n",
              "      <button class=\"colab-df-convert\" onclick=\"convertToInteractive('df-c532d90b-90fb-4d83-97e9-cdc7f8e75513')\"\n",
              "              title=\"Convert this dataframe to an interactive table.\"\n",
              "              style=\"display:none;\">\n",
              "        \n",
              "  <svg xmlns=\"http://www.w3.org/2000/svg\" height=\"24px\"viewBox=\"0 0 24 24\"\n",
              "       width=\"24px\">\n",
              "    <path d=\"M0 0h24v24H0V0z\" fill=\"none\"/>\n",
              "    <path d=\"M18.56 5.44l.94 2.06.94-2.06 2.06-.94-2.06-.94-.94-2.06-.94 2.06-2.06.94zm-11 1L8.5 8.5l.94-2.06 2.06-.94-2.06-.94L8.5 2.5l-.94 2.06-2.06.94zm10 10l.94 2.06.94-2.06 2.06-.94-2.06-.94-.94-2.06-.94 2.06-2.06.94z\"/><path d=\"M17.41 7.96l-1.37-1.37c-.4-.4-.92-.59-1.43-.59-.52 0-1.04.2-1.43.59L10.3 9.45l-7.72 7.72c-.78.78-.78 2.05 0 2.83L4 21.41c.39.39.9.59 1.41.59.51 0 1.02-.2 1.41-.59l7.78-7.78 2.81-2.81c.8-.78.8-2.07 0-2.86zM5.41 20L4 18.59l7.72-7.72 1.47 1.35L5.41 20z\"/>\n",
              "  </svg>\n",
              "      </button>\n",
              "      \n",
              "  <style>\n",
              "    .colab-df-container {\n",
              "      display:flex;\n",
              "      flex-wrap:wrap;\n",
              "      gap: 12px;\n",
              "    }\n",
              "\n",
              "    .colab-df-convert {\n",
              "      background-color: #E8F0FE;\n",
              "      border: none;\n",
              "      border-radius: 50%;\n",
              "      cursor: pointer;\n",
              "      display: none;\n",
              "      fill: #1967D2;\n",
              "      height: 32px;\n",
              "      padding: 0 0 0 0;\n",
              "      width: 32px;\n",
              "    }\n",
              "\n",
              "    .colab-df-convert:hover {\n",
              "      background-color: #E2EBFA;\n",
              "      box-shadow: 0px 1px 2px rgba(60, 64, 67, 0.3), 0px 1px 3px 1px rgba(60, 64, 67, 0.15);\n",
              "      fill: #174EA6;\n",
              "    }\n",
              "\n",
              "    [theme=dark] .colab-df-convert {\n",
              "      background-color: #3B4455;\n",
              "      fill: #D2E3FC;\n",
              "    }\n",
              "\n",
              "    [theme=dark] .colab-df-convert:hover {\n",
              "      background-color: #434B5C;\n",
              "      box-shadow: 0px 1px 3px 1px rgba(0, 0, 0, 0.15);\n",
              "      filter: drop-shadow(0px 1px 2px rgba(0, 0, 0, 0.3));\n",
              "      fill: #FFFFFF;\n",
              "    }\n",
              "  </style>\n",
              "\n",
              "      <script>\n",
              "        const buttonEl =\n",
              "          document.querySelector('#df-c532d90b-90fb-4d83-97e9-cdc7f8e75513 button.colab-df-convert');\n",
              "        buttonEl.style.display =\n",
              "          google.colab.kernel.accessAllowed ? 'block' : 'none';\n",
              "\n",
              "        async function convertToInteractive(key) {\n",
              "          const element = document.querySelector('#df-c532d90b-90fb-4d83-97e9-cdc7f8e75513');\n",
              "          const dataTable =\n",
              "            await google.colab.kernel.invokeFunction('convertToInteractive',\n",
              "                                                     [key], {});\n",
              "          if (!dataTable) return;\n",
              "\n",
              "          const docLinkHtml = 'Like what you see? Visit the ' +\n",
              "            '<a target=\"_blank\" href=https://colab.research.google.com/notebooks/data_table.ipynb>data table notebook</a>'\n",
              "            + ' to learn more about interactive tables.';\n",
              "          element.innerHTML = '';\n",
              "          dataTable['output_type'] = 'display_data';\n",
              "          await google.colab.output.renderOutput(dataTable, element);\n",
              "          const docLink = document.createElement('div');\n",
              "          docLink.innerHTML = docLinkHtml;\n",
              "          element.appendChild(docLink);\n",
              "        }\n",
              "      </script>\n",
              "    </div>\n",
              "  </div>\n",
              "  "
            ]
          },
          "metadata": {},
          "execution_count": 5
        }
      ],
      "source": [
        "df = pd.read_csv('https://raw.githubusercontent.com/albanda/CE888/master/lab8/weather.csv')\n",
        "df.drop(['temp_max', 'temp_min'], axis=1, inplace=True)\n",
        "df"
      ]
    },
    {
      "cell_type": "code",
      "execution_count": 6,
      "metadata": {
        "colab": {
          "base_uri": "https://localhost:8080/",
          "height": 279
        },
        "id": "nzsytNAh_a0N",
        "outputId": "5a62d826-664c-4e37-8719-ea364b76daef"
      },
      "outputs": [
        {
          "output_type": "display_data",
          "data": {
            "text/plain": [
              "<Figure size 432x288 with 1 Axes>"
            ],
            "image/png": "[encoded data removed]"
          },
          "metadata": {
            "needs_background": "light"
          }
        }
      ],
      "source": [
        "plt.plot(range(len(df)), df['temp_avg'])\n",
        "plt.xlabel('Temporal range')\n",
        "plt.ylabel('Average temperature (C) (7 years)')\n",
        "plt.savefig('temperature_over_time.pdf', bbox_inches='tight')"
      ]
    },
    {
      "cell_type": "code",
      "execution_count": 7,
      "metadata": {
        "colab": {
          "base_uri": "https://localhost:8080/",
          "height": 279
        },
        "id": "ysbM2n99_a0N",
        "outputId": "fd07e137-c182-42c2-9ce1-9970f275cec7"
      },
      "outputs": [
        {
          "output_type": "display_data",
          "data": {
            "text/plain": [
              "<Figure size 432x288 with 1 Axes>"
            ],
            "image/png": "[encoded data removed]"
          },
          "metadata": {
            "needs_background": "light"
          }
        }
      ],
      "source": [
        "# Look at the first 2 years\n",
        "length = 2*365\n",
        "plt.plot(range(length), df['temp_avg'][:length])\n",
        "plt.xlabel('Temporal range')\n",
        "plt.ylabel('Average temperature (C) (2 years)')\n",
        "plt.savefig('temperature_over_time_2y.pdf', bbox_inches='tight')"
      ]
    },
    {
      "cell_type": "markdown",
      "metadata": {
        "id": "ikyqi2m7_a0O"
      },
      "source": [
        "We have clear periodicity every year. In the previous plot we saw 7 cycles (7 years). Here we see 2.\n",
        "\n",
        "Always look for periodicity in your timeseries. There will always be daily and yearly cycles. Check these patterns.\n",
        "\n",
        "Another issue with timeseries is dividing the dataset into train/validation/test sets. We definitely cannot shuffle the data, and we need to be very careful with data leakage (using data from the future)."
      ]
    },
    {
      "cell_type": "markdown",
      "metadata": {
        "id": "1fxuW2ne_a0P"
      },
      "source": [
        "## Data prep\n",
        "\n",
        "We'll try to predict the average temperature of tomorrow based on data from the past.\n",
        "\n",
        "To avoid data leakage, we're going to use a simple approach: use the first 50% of data for training, the next 30% for validation, and the final 20% for testing.\n"
      ]
    },
    {
      "cell_type": "code",
      "execution_count": 8,
      "metadata": {
        "colab": {
          "base_uri": "https://localhost:8080/"
        },
        "id": "vofGsYen_a0P",
        "outputId": "99a5abe6-dcb1-43db-c048-ffd468190e2e"
      },
      "outputs": [
        {
          "output_type": "stream",
          "name": "stdout",
          "text": [
            "Samples for training: 1278; validation: 766; test: 512\n"
          ]
        }
      ],
      "source": [
        "n_tr, n_val = int(0.5*len(df)), int(0.3*len(df))\n",
        "n_te = len(df) - n_tr - n_val\n",
        "print('Samples for training: %d; validation: %d; test: %d' % (n_tr, n_val, n_te))"
      ]
    },
    {
      "cell_type": "code",
      "execution_count": 9,
      "metadata": {
        "colab": {
          "base_uri": "https://localhost:8080/"
        },
        "id": "lsMDT2Jq_a0P",
        "outputId": "21cc9ff9-6854-473b-c8ba-e31ecc53bf39"
      },
      "outputs": [
        {
          "output_type": "stream",
          "name": "stdout",
          "text": [
            "(2556, 6)\n"
          ]
        }
      ],
      "source": [
        "# Get the data from the dataframe (dropping date column)\n",
        "data = df.iloc[:, 1:].values\n",
        "print(data.shape)\n",
        "assert data.shape[0] == len(df)\n",
        "assert data.shape[1] == len(df.columns)-1, \"Are you sure you're dropping the date?\"\n",
        "# We need to normalise our time series. Calculate mean and std from TRAINING DATA ONLY. \n",
        "# We'll use it on the validation and test sets.\n",
        "mean_tr = data[:n_tr, :].mean(axis=0)\n",
        "std_tr = data[:n_tr, :].std(axis=0)\n",
        "data = (data - mean_tr) / std_tr\n",
        "\n",
        "\n",
        "y = df['temp_avg'].values.reshape(-1, 1)\n",
        "\n",
        "# index of the column that contains the avg_temp\n",
        "y_idx = 4"
      ]
    },
    {
      "cell_type": "code",
      "source": [
        "data[:20, y_idx] * std_tr[y_idx] + mean_tr[y_idx]"
      ],
      "metadata": {
        "colab": {
          "base_uri": "https://localhost:8080/"
        },
        "id": "1VJAcdfICLi1",
        "outputId": "51bdc774-d856-40b4-be31-8531e1c6a1ae"
      },
      "execution_count": 10,
      "outputs": [
        {
          "output_type": "execute_result",
          "data": {
            "text/plain": [
              "array([14.27, 13.51, 15.65, 17.46, 16.85, 18.26, 17.35, 15.55, 14.52,\n",
              "       13.93, 11.48, 13.63, 12.81, 12.4 , 13.67, 14.15, 13.22, 12.21,\n",
              "       15.53, 14.52])"
            ]
          },
          "metadata": {},
          "execution_count": 10
        }
      ]
    },
    {
      "cell_type": "code",
      "source": [
        "y[5:25]"
      ],
      "metadata": {
        "colab": {
          "base_uri": "https://localhost:8080/"
        },
        "id": "xN-YJyEeCUv9",
        "outputId": "21d5da35-76f0-4d59-e998-2c6eab6646b0"
      },
      "execution_count": 11,
      "outputs": [
        {
          "output_type": "execute_result",
          "data": {
            "text/plain": [
              "array([[18.26],\n",
              "       [17.35],\n",
              "       [15.55],\n",
              "       [14.52],\n",
              "       [13.93],\n",
              "       [11.48],\n",
              "       [13.63],\n",
              "       [12.81],\n",
              "       [12.4 ],\n",
              "       [13.67],\n",
              "       [14.15],\n",
              "       [13.22],\n",
              "       [12.21],\n",
              "       [15.53],\n",
              "       [14.52],\n",
              "       [15.35],\n",
              "       [12.29],\n",
              "       [13.88],\n",
              "       [15.13],\n",
              "       [17.29]])"
            ]
          },
          "metadata": {},
          "execution_count": 11
        }
      ]
    },
    {
      "cell_type": "code",
      "execution_count": 12,
      "metadata": {
        "id": "K_JGeiAs_a0Q"
      },
      "outputs": [],
      "source": [
        "# We'll use a Dataset from keras to pass our data\n",
        "sampling_rate = 1  # we keep all data points\n",
        "sequence_length = 14  # 2 weeks to predict tomorrow's temperature\n",
        "delay = sampling_rate * sequence_length  # the target is the day after the end of the sequence\n",
        "batch_size = 16"
      ]
    },
    {
      "cell_type": "code",
      "execution_count": 13,
      "metadata": {
        "colab": {
          "base_uri": "https://localhost:8080/"
        },
        "id": "cRDGWNYl_a0Q",
        "outputId": "09d5a6ca-561a-49cd-b3f8-20e2e884baf3"
      },
      "outputs": [
        {
          "output_type": "stream",
          "name": "stdout",
          "text": [
            "X shape: (16, 14, 6)\n",
            "target shape: (16, 1)\n"
          ]
        }
      ],
      "source": [
        "train_dataset = keras.utils.timeseries_dataset_from_array(\n",
        "    data[:-delay],\n",
        "    targets=y[delay:],\n",
        "    sampling_rate=sampling_rate, sequence_length=sequence_length,\n",
        "    batch_size=batch_size,\n",
        "    start_index=0, end_index=n_tr  # first 50% for training\n",
        "    )\n",
        "\n",
        "val_dataset = keras.utils.timeseries_dataset_from_array(\n",
        "    data[:-delay],\n",
        "    targets=y[delay:],\n",
        "    sampling_rate=sampling_rate, sequence_length=sequence_length,\n",
        "    batch_size=batch_size,\n",
        "    start_index=n_tr, end_index=n_tr+n_val  # 50%-80% for validation\n",
        "    )\n",
        "\n",
        "test_dataset = keras.utils.timeseries_dataset_from_array(\n",
        "    data[:-delay],\n",
        "    targets=y[delay:],\n",
        "    sampling_rate=sampling_rate, sequence_length=sequence_length,\n",
        "    batch_size=batch_size,\n",
        "    start_index=n_tr+n_val  # last 20% for test\n",
        "    )\n",
        "\n",
        "for X, target in train_dataset:\n",
        "    print(\"X shape:\", X.shape)\n",
        "    print(\"target shape:\", target.shape)\n",
        "    #print(X[:, :, y_idx] * std_tr[y_idx] + mean_tr[y_idx])\n",
        "    #print(target)\n",
        "    break  # so we only print once"
      ]
    },
    {
      "cell_type": "code",
      "source": [
        "# Function to plot history with neural networks\n",
        "def plot_hist_regression(hist, y):\n",
        "  n_ = len(hist.history['mae'])\n",
        "  plt.plot(range(1, n_+1), np.asarray(hist.history['mae']), 'bo', label='MAE on training set')\n",
        "  plt.plot(range(1, n_+1), np.asarray(hist.history['val_mae']), 'b', label='MAE on validation set')\n",
        "  plt.legend()\n",
        "  plt.xlabel(\"Epoch\") \n",
        "  plt.ylabel(\"MAE (degrees)\")\n",
        "  plt.axhline(y=y)\n",
        "  plt.show()\n"
      ],
      "metadata": {
        "id": "u_v2rAW_W4kQ"
      },
      "execution_count": 14,
      "outputs": []
    },
    {
      "cell_type": "markdown",
      "metadata": {
        "id": "WlhjIvZR_a0Q"
      },
      "source": [
        "## Establishing a baseline\n"
      ]
    },
    {
      "cell_type": "markdown",
      "source": [
        "### Common sense, no ML baseline\n",
        "\n",
        "- Sanity check\n",
        "- To establish whether ML methods are actually any good\n",
        "\n",
        "Tomorrow's temperature is likely to be close to today's: let's predict that the temperature 24 hours from now will be equal to the temperature right now.\n",
        "\n",
        "We'll use the MAE as metric"
      ],
      "metadata": {
        "id": "rloJamyvWPWj"
      }
    },
    {
      "cell_type": "code",
      "execution_count": 15,
      "metadata": {
        "colab": {
          "base_uri": "https://localhost:8080/"
        },
        "id": "MUY5acIf_a0Q",
        "outputId": "a6184810-8549-455c-bf9e-9b022fd6bba7"
      },
      "outputs": [
        {
          "output_type": "stream",
          "name": "stdout",
          "text": [
            "MAE on train set = 2.56 (degrees Celsius)\n",
            "MAE on validation set = 2.69 (degrees Celsius)\n",
            "MAE on test set = 2.85 (degrees Celsius)\n"
          ]
        }
      ],
      "source": [
        "def naive_method(dataset, mean, std):\n",
        "    error = 0\n",
        "    samples = 0\n",
        "    count = 0\n",
        "    for X, target in dataset:\n",
        "        pred = X[:, -1, y_idx] * std + mean  # predict last available temperature and un-standardise\n",
        "        #print(X.shape, target.shape, pred.shape)  # [batch_size, sequence_length, n_feats]\n",
        "        #print(X[:, -1, y_idx] * std + mean, target)\n",
        "        error += np.sum(np.abs(pred - target))\n",
        "        samples += X.shape[0]  # batch_size\n",
        "        count += 1\n",
        "    return error / samples / batch_size # average\n",
        "\n",
        "\n",
        "print('MAE on train set = %.2f (degrees Celsius)' % naive_method(train_dataset, mean_tr[y_idx], std_tr[y_idx]))\n",
        "print('MAE on validation set = %.2f (degrees Celsius)' % naive_method(val_dataset, mean_tr[y_idx], std_tr[y_idx]))\n",
        "print('MAE on test set = %.2f (degrees Celsius)' % naive_method(test_dataset, mean_tr[y_idx], std_tr[y_idx]))\n",
        "# Save MAE on validation for later\n",
        "baseline = naive_method(val_dataset, mean_tr[y_idx], std_tr[y_idx])"
      ]
    },
    {
      "cell_type": "markdown",
      "source": [
        "This baseline achieves a validation MAE of 2.69 degrees and a test MAE of 2.85 degrees. So if we assume that tomorrow's temperature will be the same as today's, we'll be off by less than 3 degrees on average.\n",
        "\n",
        "Not too bad, but surely we can do better!"
      ],
      "metadata": {
        "id": "znycUtxiJmAF"
      }
    },
    {
      "cell_type": "markdown",
      "metadata": {
        "id": "7c-duA1Z_a0R"
      },
      "source": [
        "### Simple ML baseline\n",
        "\n",
        "\n"
      ]
    },
    {
      "cell_type": "code",
      "source": [
        "# To get some practice with neural networks, we'll try a 1-layer NN with nothing fancy.\n",
        "\n",
        "model_dense = models.Sequential()\n",
        "model_dense.add(layers.Flatten(input_shape=(sequence_length, len(df.columns)-1)))  # we need to specify the input shape or we won't be able to see the summary\n",
        "model_dense.add(layers.Dense(10, activation='relu'))\n",
        "model_dense.add(layers.Dense(1))\n",
        "\n",
        "model_dense.summary()"
      ],
      "metadata": {
        "colab": {
          "base_uri": "https://localhost:8080/"
        },
        "id": "fWGqpICHJlRe",
        "outputId": "ff94ba59-648e-4ffa-ef58-ec375e9af31c"
      },
      "execution_count": 16,
      "outputs": [
        {
          "output_type": "stream",
          "name": "stdout",
          "text": [
            "Model: \"sequential\"\n",
            "_________________________________________________________________\n",
            " Layer (type)                Output Shape              Param #   \n",
            "=================================================================\n",
            " flatten (Flatten)           (None, 84)                0         \n",
            "                                                                 \n",
            " dense (Dense)               (None, 10)                850       \n",
            "                                                                 \n",
            " dense_1 (Dense)             (None, 1)                 11        \n",
            "                                                                 \n",
            "=================================================================\n",
            "Total params: 861\n",
            "Trainable params: 861\n",
            "Non-trainable params: 0\n",
            "_________________________________________________________________\n"
          ]
        }
      ]
    },
    {
      "cell_type": "code",
      "source": [
        "n_epochs = 20\n",
        "\n",
        "model_dense.compile(optimizer='rmsprop', loss='mse', metrics=['mae'])\n",
        "history_dense = model_dense.fit(train_dataset, epochs=n_epochs, validation_data=val_dataset)"
      ],
      "metadata": {
        "colab": {
          "base_uri": "https://localhost:8080/"
        },
        "id": "p0Hz1rX8LMfT",
        "outputId": "3ba7e489-3f49-4a82-bbd6-dfe1b0065e08"
      },
      "execution_count": 17,
      "outputs": [
        {
          "output_type": "stream",
          "name": "stdout",
          "text": [
            "Epoch 1/20\n",
            "80/80 [==============================] - 2s 11ms/step - loss: 119.9426 - mae: 9.8346 - val_loss: 106.8561 - val_mae: 9.2887\n",
            "Epoch 2/20\n",
            "80/80 [==============================] - 1s 9ms/step - loss: 85.4652 - mae: 8.3249 - val_loss: 75.0704 - val_mae: 7.8188\n",
            "Epoch 3/20\n",
            "80/80 [==============================] - 1s 9ms/step - loss: 55.9732 - mae: 6.5690 - val_loss: 51.2272 - val_mae: 6.2095\n",
            "Epoch 4/20\n",
            "80/80 [==============================] - 1s 9ms/step - loss: 40.1803 - mae: 5.3033 - val_loss: 38.8330 - val_mae: 5.2266\n",
            "Epoch 5/20\n",
            "80/80 [==============================] - 1s 8ms/step - loss: 32.6313 - mae: 4.7095 - val_loss: 31.9600 - val_mae: 4.6138\n",
            "Epoch 6/20\n",
            "80/80 [==============================] - 1s 7ms/step - loss: 28.1264 - mae: 4.3381 - val_loss: 28.0785 - val_mae: 4.2579\n",
            "Epoch 7/20\n",
            "80/80 [==============================] - 1s 9ms/step - loss: 25.3612 - mae: 4.1093 - val_loss: 25.8585 - val_mae: 4.0674\n",
            "Epoch 8/20\n",
            "80/80 [==============================] - 1s 9ms/step - loss: 23.4443 - mae: 3.9548 - val_loss: 24.2654 - val_mae: 3.9408\n",
            "Epoch 9/20\n",
            "80/80 [==============================] - 1s 8ms/step - loss: 21.8828 - mae: 3.8275 - val_loss: 22.9000 - val_mae: 3.8332\n",
            "Epoch 10/20\n",
            "80/80 [==============================] - 1s 9ms/step - loss: 20.5206 - mae: 3.7136 - val_loss: 21.6280 - val_mae: 3.7320\n",
            "Epoch 11/20\n",
            "80/80 [==============================] - 1s 7ms/step - loss: 19.2998 - mae: 3.6045 - val_loss: 20.4390 - val_mae: 3.6327\n",
            "Epoch 12/20\n",
            "80/80 [==============================] - 1s 7ms/step - loss: 18.1376 - mae: 3.4993 - val_loss: 19.3586 - val_mae: 3.5379\n",
            "Epoch 13/20\n",
            "80/80 [==============================] - 1s 9ms/step - loss: 17.1136 - mae: 3.3979 - val_loss: 18.3160 - val_mae: 3.4430\n",
            "Epoch 14/20\n",
            "80/80 [==============================] - 1s 9ms/step - loss: 16.1458 - mae: 3.2998 - val_loss: 17.4002 - val_mae: 3.3601\n",
            "Epoch 15/20\n",
            "80/80 [==============================] - 1s 7ms/step - loss: 15.2853 - mae: 3.2066 - val_loss: 16.5206 - val_mae: 3.2772\n",
            "Epoch 16/20\n",
            "80/80 [==============================] - 1s 8ms/step - loss: 14.4469 - mae: 3.1163 - val_loss: 15.7575 - val_mae: 3.2001\n",
            "Epoch 17/20\n",
            "80/80 [==============================] - 1s 8ms/step - loss: 13.7112 - mae: 3.0295 - val_loss: 15.0124 - val_mae: 3.1220\n",
            "Epoch 18/20\n",
            "80/80 [==============================] - 1s 10ms/step - loss: 13.0348 - mae: 2.9488 - val_loss: 14.4021 - val_mae: 3.0562\n",
            "Epoch 19/20\n",
            "80/80 [==============================] - 1s 9ms/step - loss: 12.4564 - mae: 2.8738 - val_loss: 13.8249 - val_mae: 2.9900\n",
            "Epoch 20/20\n",
            "80/80 [==============================] - 1s 7ms/step - loss: 11.9163 - mae: 2.8034 - val_loss: 13.3582 - val_mae: 2.9369\n"
          ]
        }
      ]
    },
    {
      "cell_type": "code",
      "source": [
        "# Plot MAE cures for validation and training\n",
        "plot_hist_regression(history_dense, baseline)"
      ],
      "metadata": {
        "colab": {
          "base_uri": "https://localhost:8080/",
          "height": 279
        },
        "id": "aBRYn-AKMCi4",
        "outputId": "883cb44c-802c-49f6-be16-02a7d06488f7"
      },
      "execution_count": 18,
      "outputs": [
        {
          "output_type": "display_data",
          "data": {
            "text/plain": [
              "<Figure size 432x288 with 1 Axes>"
            ],
            "image/png": "[encoded data removed]"
          },
          "metadata": {
            "needs_background": "light"
          }
        }
      ]
    },
    {
      "cell_type": "markdown",
      "source": [
        "Validation loss is worse than what we had with our common-sense baseline, and we're already overfitting (MAE on training set is lower than on validation set). It turns out our previous baseline is not as easy to outperform as we thought!\n",
        "\n",
        "Remember our 'hypothesis space'? Using 2 Dense layers doesn't seem to be very useful in this case. We need other types of layers for this problem."
      ],
      "metadata": {
        "id": "1EJywOA5NJa9"
      }
    },
    {
      "cell_type": "code",
      "source": [
        "# We know that CNNs take advantage of neighbouring values, so why don't we try that?\n",
        "\n",
        "# In addition to the Conv2D layers we saw last week, there are Conv1D and Conv3D layers. \n",
        "# Conv1D layers rely on 1D windows that slide across an input sequence (imagine a 1D image)\n",
        "\n",
        "model_cnn = models.Sequential()\n",
        "model_cnn.add(layers.Conv1D(8, 7, activation='relu', input_shape=(sequence_length, len(df.columns)-1)))\n",
        "model_cnn.add(layers.MaxPooling1D(2))\n",
        "model_cnn.add(layers.Conv1D(8, 3, activation='relu'))\n",
        "model_cnn.add(layers.MaxPooling1D(2))\n",
        "model_cnn.add(layers.GlobalAveragePooling1D())\n",
        "model_cnn.add(layers.Dense(1))\n",
        "\n",
        "model_cnn.summary()"
      ],
      "metadata": {
        "colab": {
          "base_uri": "https://localhost:8080/"
        },
        "id": "k6PADykQPIjq",
        "outputId": "f7dd05c9-9ff3-4833-fecc-963660d3f34e"
      },
      "execution_count": 19,
      "outputs": [
        {
          "output_type": "stream",
          "name": "stdout",
          "text": [
            "Model: \"sequential_1\"\n",
            "_________________________________________________________________\n",
            " Layer (type)                Output Shape              Param #   \n",
            "=================================================================\n",
            " conv1d (Conv1D)             (None, 8, 8)              344       \n",
            "                                                                 \n",
            " max_pooling1d (MaxPooling1D  (None, 4, 8)             0         \n",
            " )                                                               \n",
            "                                                                 \n",
            " conv1d_1 (Conv1D)           (None, 2, 8)              200       \n",
            "                                                                 \n",
            " max_pooling1d_1 (MaxPooling  (None, 1, 8)             0         \n",
            " 1D)                                                             \n",
            "                                                                 \n",
            " global_average_pooling1d (G  (None, 8)                0         \n",
            " lobalAveragePooling1D)                                          \n",
            "                                                                 \n",
            " dense_2 (Dense)             (None, 1)                 9         \n",
            "                                                                 \n",
            "=================================================================\n",
            "Total params: 553\n",
            "Trainable params: 553\n",
            "Non-trainable params: 0\n",
            "_________________________________________________________________\n"
          ]
        }
      ]
    },
    {
      "cell_type": "code",
      "source": [
        "model_cnn.compile(optimizer='rmsprop', loss='mse', metrics=['mae'])\n",
        "history_cnn = model_cnn.fit(train_dataset, epochs=n_epochs,\n",
        "                            validation_data=val_dataset)"
      ],
      "metadata": {
        "colab": {
          "base_uri": "https://localhost:8080/"
        },
        "id": "PSGRJSulQs22",
        "outputId": "47f4b00a-f3f0-4d5d-bdf2-a4d3f6a99546"
      },
      "execution_count": 20,
      "outputs": [
        {
          "output_type": "stream",
          "name": "stdout",
          "text": [
            "Epoch 1/20\n",
            "80/80 [==============================] - 1s 9ms/step - loss: 89.8258 - mae: 8.3281 - val_loss: 60.9698 - val_mae: 6.5683\n",
            "Epoch 2/20\n",
            "80/80 [==============================] - 1s 10ms/step - loss: 34.1468 - mae: 4.9432 - val_loss: 21.6178 - val_mae: 3.6879\n",
            "Epoch 3/20\n",
            "80/80 [==============================] - 1s 9ms/step - loss: 17.9195 - mae: 3.4530 - val_loss: 17.6228 - val_mae: 3.2366\n",
            "Epoch 4/20\n",
            "80/80 [==============================] - 1s 9ms/step - loss: 15.5472 - mae: 3.2166 - val_loss: 16.2111 - val_mae: 3.0698\n",
            "Epoch 5/20\n",
            "80/80 [==============================] - 1s 9ms/step - loss: 13.7958 - mae: 3.0275 - val_loss: 15.0606 - val_mae: 2.9579\n",
            "Epoch 6/20\n",
            "80/80 [==============================] - 1s 9ms/step - loss: 12.5514 - mae: 2.8904 - val_loss: 14.2138 - val_mae: 2.8744\n",
            "Epoch 7/20\n",
            "80/80 [==============================] - 1s 7ms/step - loss: 11.7143 - mae: 2.7896 - val_loss: 13.5691 - val_mae: 2.8163\n",
            "Epoch 8/20\n",
            "80/80 [==============================] - 1s 7ms/step - loss: 11.1068 - mae: 2.7113 - val_loss: 13.0085 - val_mae: 2.7707\n",
            "Epoch 9/20\n",
            "80/80 [==============================] - 1s 9ms/step - loss: 10.6369 - mae: 2.6491 - val_loss: 12.6347 - val_mae: 2.7389\n",
            "Epoch 10/20\n",
            "80/80 [==============================] - 1s 8ms/step - loss: 10.2737 - mae: 2.5977 - val_loss: 12.3091 - val_mae: 2.7145\n",
            "Epoch 11/20\n",
            "80/80 [==============================] - 1s 10ms/step - loss: 9.9678 - mae: 2.5548 - val_loss: 12.0240 - val_mae: 2.6935\n",
            "Epoch 12/20\n",
            "80/80 [==============================] - 1s 9ms/step - loss: 9.6906 - mae: 2.5168 - val_loss: 11.7375 - val_mae: 2.6747\n",
            "Epoch 13/20\n",
            "80/80 [==============================] - 1s 9ms/step - loss: 9.4562 - mae: 2.4856 - val_loss: 11.5179 - val_mae: 2.6579\n",
            "Epoch 14/20\n",
            "80/80 [==============================] - 1s 9ms/step - loss: 9.2454 - mae: 2.4576 - val_loss: 11.3130 - val_mae: 2.6409\n",
            "Epoch 15/20\n",
            "80/80 [==============================] - 1s 7ms/step - loss: 9.0554 - mae: 2.4316 - val_loss: 11.1578 - val_mae: 2.6262\n",
            "Epoch 16/20\n",
            "80/80 [==============================] - 1s 8ms/step - loss: 8.8810 - mae: 2.4082 - val_loss: 11.0184 - val_mae: 2.6119\n",
            "Epoch 17/20\n",
            "80/80 [==============================] - 1s 9ms/step - loss: 8.7115 - mae: 2.3855 - val_loss: 10.9173 - val_mae: 2.6019\n",
            "Epoch 18/20\n",
            "80/80 [==============================] - 1s 8ms/step - loss: 8.5627 - mae: 2.3655 - val_loss: 10.8005 - val_mae: 2.5897\n",
            "Epoch 19/20\n",
            "80/80 [==============================] - 1s 7ms/step - loss: 8.4123 - mae: 2.3449 - val_loss: 10.7387 - val_mae: 2.5818\n",
            "Epoch 20/20\n",
            "80/80 [==============================] - 1s 9ms/step - loss: 8.2671 - mae: 2.3245 - val_loss: 10.6554 - val_mae: 2.5730\n"
          ]
        }
      ]
    },
    {
      "cell_type": "code",
      "source": [
        "# Plot MAE cures for validation and training\n",
        "plot_hist_regression(history_cnn, baseline)"
      ],
      "metadata": {
        "colab": {
          "base_uri": "https://localhost:8080/",
          "height": 279
        },
        "id": "6bB6lzLYSG-u",
        "outputId": "0b56f300-2e68-448e-ccaf-5ff16dce112b"
      },
      "execution_count": 21,
      "outputs": [
        {
          "output_type": "display_data",
          "data": {
            "text/plain": [
              "<Figure size 432x288 with 1 Axes>"
            ],
            "image/png": "[encoded data removed]"
          },
          "metadata": {
            "needs_background": "light"
          }
        }
      ]
    },
    {
      "cell_type": "markdown",
      "source": [
        "This model isn't any better, with a validation MAE of 2.77 degrees (also worse than the 'common-sense approach' that we tried at first), and we're overfitting a bit too.\n",
        "\n",
        "Why?\n",
        "\n",
        "In timeseries, order matters a lot: the recent past is more informative than data from 5 days ago, and convolutional layers don't take advantage of this fact -- max pooling and global average pooling layers actually destroy this order information."
      ],
      "metadata": {
        "id": "Kc2iMPSHViL1"
      }
    },
    {
      "cell_type": "markdown",
      "metadata": {
        "id": "3ozUAZX__a0R"
      },
      "source": [
        "## Long Short Term Memory (LSTM) Neural Networks\n",
        "\n",
        "\n"
      ]
    },
    {
      "cell_type": "code",
      "execution_count": 22,
      "metadata": {
        "id": "2dWfiaUw_a0R",
        "colab": {
          "base_uri": "https://localhost:8080/"
        },
        "outputId": "309d8b4a-83f9-473d-ef28-dc4f1cd8548e"
      },
      "outputs": [
        {
          "output_type": "stream",
          "name": "stdout",
          "text": [
            "Model: \"sequential_2\"\n",
            "_________________________________________________________________\n",
            " Layer (type)                Output Shape              Param #   \n",
            "=================================================================\n",
            " lstm (LSTM)                 (None, 20)                2160      \n",
            "                                                                 \n",
            " dense_3 (Dense)             (None, 1)                 21        \n",
            "                                                                 \n",
            "=================================================================\n",
            "Total params: 2,181\n",
            "Trainable params: 2,181\n",
            "Non-trainable params: 0\n",
            "_________________________________________________________________\n"
          ]
        }
      ],
      "source": [
        "# 1-layer LSTM\n",
        "\n",
        "model_lstm1 = models.Sequential()\n",
        "model_lstm1.add(layers.LSTM(20, input_shape=(sequence_length, len(df.columns)-1)))\n",
        "model_lstm1.add(layers.Dense(1))\n",
        "\n",
        "model_lstm1.summary()"
      ]
    },
    {
      "cell_type": "code",
      "source": [
        "n_epochs = 20"
      ],
      "metadata": {
        "id": "DMst2Mp0R0Xi"
      },
      "execution_count": 23,
      "outputs": []
    },
    {
      "cell_type": "code",
      "source": [
        "model_lstm1.compile(optimizer='rmsprop', loss='mse', metrics=['mae'])\n",
        "history_lstm1 = model_lstm1.fit(train_dataset, epochs=n_epochs,\n",
        "                            validation_data=val_dataset)"
      ],
      "metadata": {
        "colab": {
          "base_uri": "https://localhost:8080/"
        },
        "id": "Pff2tZQHXb-z",
        "outputId": "fb4322c4-f1f0-40cf-ad8a-43e73c146e8d"
      },
      "execution_count": 24,
      "outputs": [
        {
          "output_type": "stream",
          "name": "stdout",
          "text": [
            "Epoch 1/20\n",
            "80/80 [==============================] - 7s 33ms/step - loss: 136.0906 - mae: 10.5376 - val_loss: 116.9530 - val_mae: 9.7231\n",
            "Epoch 2/20\n",
            "80/80 [==============================] - 2s 23ms/step - loss: 91.8567 - mae: 8.4645 - val_loss: 66.5634 - val_mae: 6.7593\n",
            "Epoch 3/20\n",
            "80/80 [==============================] - 2s 26ms/step - loss: 53.2067 - mae: 6.0441 - val_loss: 44.5235 - val_mae: 5.2677\n",
            "Epoch 4/20\n",
            "80/80 [==============================] - 2s 20ms/step - loss: 38.7739 - mae: 5.1171 - val_loss: 34.3752 - val_mae: 4.5846\n",
            "Epoch 5/20\n",
            "80/80 [==============================] - 2s 29ms/step - loss: 30.3662 - mae: 4.5065 - val_loss: 27.9594 - val_mae: 4.1401\n",
            "Epoch 6/20\n",
            "80/80 [==============================] - 2s 28ms/step - loss: 24.7909 - mae: 4.0651 - val_loss: 23.5057 - val_mae: 3.8197\n",
            "Epoch 7/20\n",
            "80/80 [==============================] - 1s 18ms/step - loss: 20.6611 - mae: 3.7023 - val_loss: 20.1273 - val_mae: 3.5479\n",
            "Epoch 8/20\n",
            "80/80 [==============================] - 1s 15ms/step - loss: 17.4043 - mae: 3.3948 - val_loss: 17.4281 - val_mae: 3.3135\n",
            "Epoch 9/20\n",
            "80/80 [==============================] - 1s 15ms/step - loss: 14.9277 - mae: 3.1338 - val_loss: 15.2723 - val_mae: 3.1107\n",
            "Epoch 10/20\n",
            "80/80 [==============================] - 1s 15ms/step - loss: 12.8059 - mae: 2.8782 - val_loss: 13.6590 - val_mae: 2.9519\n",
            "Epoch 11/20\n",
            "80/80 [==============================] - 1s 14ms/step - loss: 11.1210 - mae: 2.6712 - val_loss: 12.1962 - val_mae: 2.7908\n",
            "Epoch 12/20\n",
            "80/80 [==============================] - 1s 14ms/step - loss: 9.8394 - mae: 2.5027 - val_loss: 11.0356 - val_mae: 2.6585\n",
            "Epoch 13/20\n",
            "80/80 [==============================] - 1s 13ms/step - loss: 8.8094 - mae: 2.3640 - val_loss: 10.1911 - val_mae: 2.5621\n",
            "Epoch 14/20\n",
            "80/80 [==============================] - 1s 14ms/step - loss: 7.9450 - mae: 2.2506 - val_loss: 9.5080 - val_mae: 2.4841\n",
            "Epoch 15/20\n",
            "80/80 [==============================] - 1s 13ms/step - loss: 7.4365 - mae: 2.1725 - val_loss: 8.9340 - val_mae: 2.4117\n",
            "Epoch 16/20\n",
            "80/80 [==============================] - 1s 14ms/step - loss: 6.9694 - mae: 2.1143 - val_loss: 8.4939 - val_mae: 2.3584\n",
            "Epoch 17/20\n",
            "80/80 [==============================] - 1s 15ms/step - loss: 6.7624 - mae: 2.0798 - val_loss: 8.1514 - val_mae: 2.3132\n",
            "Epoch 18/20\n",
            "80/80 [==============================] - 1s 15ms/step - loss: 6.4729 - mae: 2.0431 - val_loss: 7.8424 - val_mae: 2.2715\n",
            "Epoch 19/20\n",
            "80/80 [==============================] - 1s 13ms/step - loss: 6.2866 - mae: 2.0027 - val_loss: 7.5828 - val_mae: 2.2316\n",
            "Epoch 20/20\n",
            "80/80 [==============================] - 1s 14ms/step - loss: 6.0200 - mae: 1.9599 - val_loss: 7.3924 - val_mae: 2.2028\n"
          ]
        }
      ]
    },
    {
      "cell_type": "code",
      "source": [
        "# Plot MAE cures for validation and training\n",
        "plot_hist_regression(history_lstm1, baseline)\n"
      ],
      "metadata": {
        "colab": {
          "base_uri": "https://localhost:8080/",
          "height": 279
        },
        "id": "hr-bgDUvXmvS",
        "outputId": "792eba1e-1bd8-4aeb-9669-74402a3d2e79"
      },
      "execution_count": 25,
      "outputs": [
        {
          "output_type": "display_data",
          "data": {
            "text/plain": [
              "<Figure size 432x288 with 1 Axes>"
            ],
            "image/png": "[encoded data removed]"
          },
          "metadata": {
            "needs_background": "light"
          }
        }
      ]
    },
    {
      "cell_type": "code",
      "source": [
        "print('Test MAE = %.2f degrees' % model_lstm1.evaluate(test_dataset)[1])"
      ],
      "metadata": {
        "colab": {
          "base_uri": "https://localhost:8080/"
        },
        "id": "0fFZvXXUcQ67",
        "outputId": "37d647da-735b-4cf0-d2ad-27ee29ab1775"
      },
      "execution_count": 26,
      "outputs": [
        {
          "output_type": "stream",
          "name": "stdout",
          "text": [
            "31/31 [==============================] - 0s 5ms/step - loss: 9.2756 - mae: 2.4189\n",
            "Test MAE = 2.42 degrees\n"
          ]
        }
      ]
    },
    {
      "cell_type": "markdown",
      "source": [
        "Success! We finally beat the common-sense baseline! The validation MAE now is 2.12 degrees, and the test MAE is 2.27.\n",
        "\n",
        "Why do LSTM layers work? Let's go back to the slides"
      ],
      "metadata": {
        "id": "bYSWwI1aXvwL"
      }
    },
    {
      "cell_type": "code",
      "source": [
        "# Adding dropout\n",
        "\n",
        "model_lstm2 = models.Sequential()\n",
        "model_lstm2.add(layers.LSTM(20, input_shape=(sequence_length, len(df.columns)-1), recurrent_dropout=0.25))\n",
        "model_lstm2.add(layers.Dropout(0.4))\n",
        "model_lstm2.add(layers.Dense(1))\n",
        "\n",
        "model_lstm2.summary()"
      ],
      "metadata": {
        "id": "acSYakeOcokB",
        "colab": {
          "base_uri": "https://localhost:8080/"
        },
        "outputId": "99061ffc-8b95-4d28-cb77-41c1d3226b0f"
      },
      "execution_count": 27,
      "outputs": [
        {
          "output_type": "stream",
          "name": "stdout",
          "text": [
            "Model: \"sequential_3\"\n",
            "_________________________________________________________________\n",
            " Layer (type)                Output Shape              Param #   \n",
            "=================================================================\n",
            " lstm_1 (LSTM)               (None, 20)                2160      \n",
            "                                                                 \n",
            " dropout (Dropout)           (None, 20)                0         \n",
            "                                                                 \n",
            " dense_4 (Dense)             (None, 1)                 21        \n",
            "                                                                 \n",
            "=================================================================\n",
            "Total params: 2,181\n",
            "Trainable params: 2,181\n",
            "Non-trainable params: 0\n",
            "_________________________________________________________________\n"
          ]
        }
      ]
    },
    {
      "cell_type": "code",
      "source": [
        "model_lstm2.compile(optimizer='rmsprop', loss='mse', metrics=['mae'])\n",
        "history_lstm2 = model_lstm2.fit(train_dataset, epochs=n_epochs,\n",
        "                            validation_data=val_dataset)"
      ],
      "metadata": {
        "colab": {
          "base_uri": "https://localhost:8080/"
        },
        "id": "LvRnf9TWSWf9",
        "outputId": "123311db-1d7e-4e5c-856c-56fe436e7e00"
      },
      "execution_count": 28,
      "outputs": [
        {
          "output_type": "stream",
          "name": "stdout",
          "text": [
            "Epoch 1/20\n",
            "80/80 [==============================] - 4s 23ms/step - loss: 132.9376 - mae: 10.4230 - val_loss: 110.3820 - val_mae: 9.3551\n",
            "Epoch 2/20\n",
            "80/80 [==============================] - 1s 18ms/step - loss: 86.9229 - mae: 8.1690 - val_loss: 60.3604 - val_mae: 6.2888\n",
            "Epoch 3/20\n",
            "80/80 [==============================] - 2s 20ms/step - loss: 51.7820 - mae: 5.9353 - val_loss: 40.9117 - val_mae: 5.0158\n",
            "Epoch 4/20\n",
            "80/80 [==============================] - 2s 20ms/step - loss: 37.7350 - mae: 4.9942 - val_loss: 31.7887 - val_mae: 4.4319\n",
            "Epoch 5/20\n",
            "80/80 [==============================] - 2s 20ms/step - loss: 29.8112 - mae: 4.3584 - val_loss: 25.9046 - val_mae: 4.0171\n",
            "Epoch 6/20\n",
            "80/80 [==============================] - 2s 20ms/step - loss: 25.1420 - mae: 4.0376 - val_loss: 21.5834 - val_mae: 3.6733\n",
            "Epoch 7/20\n",
            "80/80 [==============================] - 2s 19ms/step - loss: 21.9223 - mae: 3.7319 - val_loss: 18.8203 - val_mae: 3.4523\n",
            "Epoch 8/20\n",
            "80/80 [==============================] - 2s 20ms/step - loss: 19.4217 - mae: 3.5161 - val_loss: 16.2471 - val_mae: 3.1925\n",
            "Epoch 9/20\n",
            "80/80 [==============================] - 2s 20ms/step - loss: 17.4904 - mae: 3.3476 - val_loss: 14.1957 - val_mae: 2.9788\n",
            "Epoch 10/20\n",
            "80/80 [==============================] - 2s 28ms/step - loss: 15.6415 - mae: 3.1287 - val_loss: 12.5458 - val_mae: 2.7964\n",
            "Epoch 11/20\n",
            "80/80 [==============================] - 1s 19ms/step - loss: 14.7711 - mae: 3.0258 - val_loss: 11.3257 - val_mae: 2.6569\n",
            "Epoch 12/20\n",
            "80/80 [==============================] - 2s 19ms/step - loss: 13.0203 - mae: 2.8474 - val_loss: 10.5150 - val_mae: 2.5740\n",
            "Epoch 13/20\n",
            "80/80 [==============================] - 2s 19ms/step - loss: 12.6740 - mae: 2.8523 - val_loss: 9.9408 - val_mae: 2.5152\n",
            "Epoch 14/20\n",
            "80/80 [==============================] - 2s 19ms/step - loss: 12.1836 - mae: 2.7564 - val_loss: 9.0063 - val_mae: 2.3867\n",
            "Epoch 15/20\n",
            "80/80 [==============================] - 2s 20ms/step - loss: 12.4383 - mae: 2.8335 - val_loss: 8.6467 - val_mae: 2.3474\n",
            "Epoch 16/20\n",
            "80/80 [==============================] - 2s 21ms/step - loss: 11.7393 - mae: 2.7252 - val_loss: 8.0235 - val_mae: 2.2646\n",
            "Epoch 17/20\n",
            "80/80 [==============================] - 2s 19ms/step - loss: 11.5547 - mae: 2.6906 - val_loss: 7.7067 - val_mae: 2.2166\n",
            "Epoch 18/20\n",
            "80/80 [==============================] - 2s 19ms/step - loss: 11.2151 - mae: 2.6506 - val_loss: 7.4252 - val_mae: 2.1757\n",
            "Epoch 19/20\n",
            "80/80 [==============================] - 2s 19ms/step - loss: 10.9697 - mae: 2.5990 - val_loss: 7.1166 - val_mae: 2.1315\n",
            "Epoch 20/20\n",
            "80/80 [==============================] - 2s 20ms/step - loss: 10.4542 - mae: 2.5308 - val_loss: 7.1181 - val_mae: 2.1445\n"
          ]
        }
      ]
    },
    {
      "cell_type": "code",
      "source": [
        "# Plot MAE cures for validation and training\n",
        "plot_hist_regression(history_lstm2, baseline)"
      ],
      "metadata": {
        "colab": {
          "base_uri": "https://localhost:8080/",
          "height": 279
        },
        "id": "cWpm-j9iSck1",
        "outputId": "f5c65522-b731-49c2-9008-73b652092482"
      },
      "execution_count": 29,
      "outputs": [
        {
          "output_type": "display_data",
          "data": {
            "text/plain": [
              "<Figure size 432x288 with 1 Axes>"
            ],
            "image/png": "[encoded data removed]"
          },
          "metadata": {
            "needs_background": "light"
          }
        }
      ]
    },
    {
      "cell_type": "code",
      "source": [
        "print('Test MAE = %.2f degrees' % model_lstm2.evaluate(test_dataset)[1])"
      ],
      "metadata": {
        "colab": {
          "base_uri": "https://localhost:8080/"
        },
        "id": "rAIQrQDVSmSM",
        "outputId": "71e1917c-d815-4e9b-e2b5-f4cd3c072997"
      },
      "execution_count": 30,
      "outputs": [
        {
          "output_type": "stream",
          "name": "stdout",
          "text": [
            "31/31 [==============================] - 0s 6ms/step - loss: 7.9103 - mae: 2.2281\n",
            "Test MAE = 2.23 degrees\n"
          ]
        }
      ]
    },
    {
      "cell_type": "markdown",
      "source": [
        "Note that validation set MAE is now lower than MAE on training set -- no longer overfitting. Validation MAE is 2.16 and test MAE is also 2.16.\n",
        "\n",
        "NOTE: This is a very simple dataset with very small differences in performance between different models.  You'll just have to take my word for it that *in general* this approach works. "
      ],
      "metadata": {
        "id": "H3OrpvE3S4gM"
      }
    },
    {
      "cell_type": "code",
      "source": [
        "# Performance in the previous figure can (maybe) still be improved\n",
        "# Let's try to add some more layers -- we can do this now that we're no longer overfitting\n",
        "\n",
        "model_lstm3 = models.Sequential()\n",
        "model_lstm3.add(layers.LSTM(20, input_shape=(sequence_length, len(df.columns)-1), recurrent_dropout=0.25, return_sequences=True))  # NEW!\n",
        "model_lstm3.add(layers.LSTM(20, input_shape=(sequence_length, len(df.columns)-1), recurrent_dropout=0.25))  # NEW!!\n",
        "model_lstm3.add(layers.Dropout(0.4))\n",
        "model_lstm3.add(layers.Dense(1))\n",
        "model_lstm3.summary()"
      ],
      "metadata": {
        "colab": {
          "base_uri": "https://localhost:8080/"
        },
        "id": "jq_ZDTttTX6_",
        "outputId": "47fc5048-418d-4aa9-9a74-239a350d7529"
      },
      "execution_count": 31,
      "outputs": [
        {
          "output_type": "stream",
          "name": "stdout",
          "text": [
            "Model: \"sequential_4\"\n",
            "_________________________________________________________________\n",
            " Layer (type)                Output Shape              Param #   \n",
            "=================================================================\n",
            " lstm_2 (LSTM)               (None, 14, 20)            2160      \n",
            "                                                                 \n",
            " lstm_3 (LSTM)               (None, 20)                3280      \n",
            "                                                                 \n",
            " dropout_1 (Dropout)         (None, 20)                0         \n",
            "                                                                 \n",
            " dense_5 (Dense)             (None, 1)                 21        \n",
            "                                                                 \n",
            "=================================================================\n",
            "Total params: 5,461\n",
            "Trainable params: 5,461\n",
            "Non-trainable params: 0\n",
            "_________________________________________________________________\n"
          ]
        }
      ]
    },
    {
      "cell_type": "code",
      "source": [
        "model_lstm3.compile(optimizer='rmsprop', loss='mse', metrics=['mae'])\n",
        "\n",
        "callbacks = [EarlyStopping(monitor='val_mae', patience=2)]\n",
        "\n",
        "history_lstm3 = model_lstm3.fit(train_dataset, epochs=60,  # increased number of epochs\n",
        "                            validation_data=val_dataset,\n",
        "                            callbacks=callbacks)  # but added early stopping callback\n"
      ],
      "metadata": {
        "colab": {
          "base_uri": "https://localhost:8080/"
        },
        "id": "9xQXChtNUxzh",
        "outputId": "6dd604ef-c3e4-4242-e10e-e51803ec1dd8"
      },
      "execution_count": 32,
      "outputs": [
        {
          "output_type": "stream",
          "name": "stdout",
          "text": [
            "Epoch 1/60\n",
            "80/80 [==============================] - 8s 37ms/step - loss: 123.5220 - mae: 10.0420 - val_loss: 89.8485 - val_mae: 8.3730\n",
            "Epoch 2/60\n",
            "80/80 [==============================] - 3s 35ms/step - loss: 68.3061 - mae: 7.0230 - val_loss: 51.6950 - val_mae: 5.7160\n",
            "Epoch 3/60\n",
            "80/80 [==============================] - 2s 31ms/step - loss: 45.8602 - mae: 5.5284 - val_loss: 38.1041 - val_mae: 4.8871\n",
            "Epoch 4/60\n",
            "80/80 [==============================] - 2s 31ms/step - loss: 34.9107 - mae: 4.7754 - val_loss: 30.5660 - val_mae: 4.3724\n",
            "Epoch 5/60\n",
            "80/80 [==============================] - 2s 30ms/step - loss: 28.3696 - mae: 4.3174 - val_loss: 25.1876 - val_mae: 3.9624\n",
            "Epoch 6/60\n",
            "80/80 [==============================] - 2s 30ms/step - loss: 25.3146 - mae: 4.0299 - val_loss: 22.0224 - val_mae: 3.7480\n",
            "Epoch 7/60\n",
            "80/80 [==============================] - 2s 31ms/step - loss: 21.8115 - mae: 3.7635 - val_loss: 19.3106 - val_mae: 3.5248\n",
            "Epoch 8/60\n",
            "80/80 [==============================] - 3s 41ms/step - loss: 19.2931 - mae: 3.5226 - val_loss: 16.7662 - val_mae: 3.2742\n",
            "Epoch 9/60\n",
            "80/80 [==============================] - 2s 31ms/step - loss: 17.2493 - mae: 3.2728 - val_loss: 15.3720 - val_mae: 3.1544\n",
            "Epoch 10/60\n",
            "80/80 [==============================] - 2s 31ms/step - loss: 15.7767 - mae: 3.1712 - val_loss: 13.6696 - val_mae: 2.9561\n",
            "Epoch 11/60\n",
            "80/80 [==============================] - 2s 31ms/step - loss: 15.4969 - mae: 3.1240 - val_loss: 12.8176 - val_mae: 2.8700\n",
            "Epoch 12/60\n",
            "80/80 [==============================] - 2s 31ms/step - loss: 13.9749 - mae: 2.9650 - val_loss: 11.1966 - val_mae: 2.6689\n",
            "Epoch 13/60\n",
            "80/80 [==============================] - 3s 32ms/step - loss: 14.5696 - mae: 3.0300 - val_loss: 11.2207 - val_mae: 2.6917\n",
            "Epoch 14/60\n",
            "80/80 [==============================] - 3s 32ms/step - loss: 13.0266 - mae: 2.8939 - val_loss: 10.5706 - val_mae: 2.6151\n",
            "Epoch 15/60\n",
            "80/80 [==============================] - 3s 32ms/step - loss: 11.7166 - mae: 2.7445 - val_loss: 9.4395 - val_mae: 2.4576\n",
            "Epoch 16/60\n",
            "80/80 [==============================] - 2s 30ms/step - loss: 11.6877 - mae: 2.7322 - val_loss: 9.4339 - val_mae: 2.4740\n",
            "Epoch 17/60\n",
            "80/80 [==============================] - 2s 30ms/step - loss: 11.0530 - mae: 2.5966 - val_loss: 8.8600 - val_mae: 2.3884\n",
            "Epoch 18/60\n",
            "80/80 [==============================] - 2s 31ms/step - loss: 10.4294 - mae: 2.5747 - val_loss: 8.5494 - val_mae: 2.3514\n",
            "Epoch 19/60\n",
            "80/80 [==============================] - 3s 31ms/step - loss: 11.0644 - mae: 2.6307 - val_loss: 8.4612 - val_mae: 2.3493\n",
            "Epoch 20/60\n",
            "80/80 [==============================] - 3s 32ms/step - loss: 10.2844 - mae: 2.5484 - val_loss: 8.1622 - val_mae: 2.3090\n",
            "Epoch 21/60\n",
            "80/80 [==============================] - 3s 31ms/step - loss: 10.1909 - mae: 2.5523 - val_loss: 7.8537 - val_mae: 2.2665\n",
            "Epoch 22/60\n",
            "80/80 [==============================] - 3s 35ms/step - loss: 10.2698 - mae: 2.5680 - val_loss: 7.6680 - val_mae: 2.2399\n",
            "Epoch 23/60\n",
            "80/80 [==============================] - 2s 31ms/step - loss: 9.8613 - mae: 2.4819 - val_loss: 7.3896 - val_mae: 2.1935\n",
            "Epoch 24/60\n",
            "80/80 [==============================] - 3s 32ms/step - loss: 9.7986 - mae: 2.4502 - val_loss: 7.0683 - val_mae: 2.1401\n",
            "Epoch 25/60\n",
            "80/80 [==============================] - 3s 31ms/step - loss: 10.1601 - mae: 2.5363 - val_loss: 6.9041 - val_mae: 2.1167\n",
            "Epoch 26/60\n",
            "80/80 [==============================] - 3s 32ms/step - loss: 9.7193 - mae: 2.4658 - val_loss: 6.8262 - val_mae: 2.1016\n",
            "Epoch 27/60\n",
            "80/80 [==============================] - 3s 32ms/step - loss: 9.0158 - mae: 2.3662 - val_loss: 6.7110 - val_mae: 2.0797\n",
            "Epoch 28/60\n",
            "80/80 [==============================] - 2s 30ms/step - loss: 9.0239 - mae: 2.3812 - val_loss: 6.5593 - val_mae: 2.0508\n",
            "Epoch 29/60\n",
            "80/80 [==============================] - 2s 31ms/step - loss: 8.6264 - mae: 2.3378 - val_loss: 6.3639 - val_mae: 2.0166\n",
            "Epoch 30/60\n",
            "80/80 [==============================] - 2s 31ms/step - loss: 8.8976 - mae: 2.3764 - val_loss: 6.0053 - val_mae: 1.9530\n",
            "Epoch 31/60\n",
            "80/80 [==============================] - 3s 32ms/step - loss: 8.6464 - mae: 2.3128 - val_loss: 6.1429 - val_mae: 1.9711\n",
            "Epoch 32/60\n",
            "80/80 [==============================] - 2s 31ms/step - loss: 8.7587 - mae: 2.3180 - val_loss: 5.6855 - val_mae: 1.8885\n",
            "Epoch 33/60\n",
            "80/80 [==============================] - 3s 31ms/step - loss: 8.7923 - mae: 2.3120 - val_loss: 5.7547 - val_mae: 1.9030\n",
            "Epoch 34/60\n",
            "80/80 [==============================] - 2s 31ms/step - loss: 8.1819 - mae: 2.2654 - val_loss: 5.6715 - val_mae: 1.8824\n",
            "Epoch 35/60\n",
            "80/80 [==============================] - 2s 31ms/step - loss: 8.5830 - mae: 2.3457 - val_loss: 5.4372 - val_mae: 1.8452\n",
            "Epoch 36/60\n",
            "80/80 [==============================] - 2s 31ms/step - loss: 8.6216 - mae: 2.3311 - val_loss: 5.8214 - val_mae: 1.9215\n",
            "Epoch 37/60\n",
            "80/80 [==============================] - 2s 31ms/step - loss: 8.5669 - mae: 2.3232 - val_loss: 5.3832 - val_mae: 1.8371\n",
            "Epoch 38/60\n",
            "80/80 [==============================] - 3s 35ms/step - loss: 8.8229 - mae: 2.3212 - val_loss: 5.4586 - val_mae: 1.8431\n",
            "Epoch 39/60\n",
            "80/80 [==============================] - 3s 32ms/step - loss: 8.6632 - mae: 2.3235 - val_loss: 5.3570 - val_mae: 1.8206\n",
            "Epoch 40/60\n",
            "80/80 [==============================] - 2s 31ms/step - loss: 8.1665 - mae: 2.2848 - val_loss: 5.5159 - val_mae: 1.8539\n",
            "Epoch 41/60\n",
            "80/80 [==============================] - 3s 32ms/step - loss: 8.5750 - mae: 2.2900 - val_loss: 5.2397 - val_mae: 1.8162\n",
            "Epoch 42/60\n",
            "80/80 [==============================] - 2s 31ms/step - loss: 8.3083 - mae: 2.3047 - val_loss: 5.5632 - val_mae: 1.8638\n",
            "Epoch 43/60\n",
            "80/80 [==============================] - 3s 32ms/step - loss: 7.8932 - mae: 2.2269 - val_loss: 5.4694 - val_mae: 1.8399\n"
          ]
        }
      ]
    },
    {
      "cell_type": "code",
      "source": [
        "# Plot MAE cures for validation and training\n",
        "plot_hist_regression(history_lstm3, baseline)\n",
        "print('Test MAE = %.2f degrees' % model_lstm3.evaluate(test_dataset)[1])"
      ],
      "metadata": {
        "colab": {
          "base_uri": "https://localhost:8080/",
          "height": 314
        },
        "id": "PtFfB3YaU4k3",
        "outputId": "0bfe80dc-e6ae-4687-8b85-bd9f546bfbe3"
      },
      "execution_count": 33,
      "outputs": [
        {
          "output_type": "display_data",
          "data": {
            "text/plain": [
              "<Figure size 432x288 with 1 Axes>"
            ],
            "image/png": "[encoded data removed]"
          },
          "metadata": {
            "needs_background": "light"
          }
        },
        {
          "output_type": "stream",
          "name": "stdout",
          "text": [
            "31/31 [==============================] - 0s 8ms/step - loss: 6.1413 - mae: 1.9179\n",
            "Test MAE = 1.92 degrees\n"
          ]
        }
      ]
    },
    {
      "cell_type": "markdown",
      "source": [
        "Validation MAE = 1.92 degrees\n",
        "\n",
        "Test MAE = 1.89 degrees\n"
      ],
      "metadata": {
        "id": "eUJqRqp1XJnL"
      }
    },
    {
      "cell_type": "markdown",
      "source": [
        "# Text"
      ],
      "metadata": {
        "id": "zGEuNqw2csXj"
      }
    },
    {
      "cell_type": "markdown",
      "source": [
        "## Data prep\n",
        "\n",
        "We'll try to predict whether the review for a movie is positive or negative looking only at the text of the review.\n",
        "\n",
        "We'll use the IMDB text dataset for this task, which is available on `keras.datasets` and described [here](https://keras.io/api/datasets/imdb/). \n",
        "\n",
        "We'll merge the training and test sets and use 60% for training, 20% for validation, and 20% for testing.\n",
        "\n",
        "\n",
        "As this is a binary classificationp problem, we'll use the binary cross entropy loss function. We will keep track of accuracy when training and evaluating the model.\n"
      ],
      "metadata": {
        "id": "dtv0EjsTbwvm"
      }
    },
    {
      "cell_type": "code",
      "source": [
        "def plot_hist_classif(hist):\n",
        "  n_ = len(hist.history['accuracy'])\n",
        "  plt.plot(range(1, n_+1), 100*np.asarray(hist.history['accuracy']), 'bo', label='Accuracy on training set')\n",
        "  plt.plot(range(1, n_+1), 100*np.asarray(hist.history['val_accuracy']), 'b', label='Accuracy on validation set')\n",
        "  plt.legend()\n",
        "  plt.xlabel(\"Epoch\") \n",
        "  plt.ylabel(\"Accuracy\")\n",
        "  plt.ylim(0, 100)\n",
        "  plt.axhline(y=50)\n",
        "  plt.show()\n"
      ],
      "metadata": {
        "id": "i-mH-8IGwGo1"
      },
      "execution_count": 34,
      "outputs": []
    },
    {
      "cell_type": "code",
      "source": [
        "max_features = 15000  # only consider the top 15k words\n",
        "maxlen = 500  # first 500 words of each review\n",
        "batch_size = 32\n",
        "\n",
        "print('Loading data...')\n",
        "# Load dataset\n",
        "(x_train, y_train), (x_test, y_test) = keras.datasets.imdb.load_data(num_words=max_features)\n",
        "print(len(x_train), 'train sequences', x_train.shape)\n",
        "print(len(x_test), 'test sequences', x_test.shape)"
      ],
      "metadata": {
        "colab": {
          "base_uri": "https://localhost:8080/"
        },
        "id": "4TW3Vg49n5V-",
        "outputId": "8b084e4f-c9bb-4603-9378-61baa084dced"
      },
      "execution_count": 35,
      "outputs": [
        {
          "output_type": "stream",
          "name": "stdout",
          "text": [
            "Loading data...\n",
            "Downloading data from https://storage.googleapis.com/tensorflow/tf-keras-datasets/imdb.npz\n",
            "17465344/17464789 [==============================] - 0s 0us/step\n",
            "17473536/17464789 [==============================] - 0s 0us/step\n",
            "25000 train sequences (25000,)\n",
            "25000 test sequences (25000,)\n"
          ]
        }
      ]
    },
    {
      "cell_type": "code",
      "source": [
        "# How balanced is this dataset?\n",
        "print(np.sum(y_train)/len(y_train))\n",
        "print(np.sum(y_test)/len(y_test))"
      ],
      "metadata": {
        "colab": {
          "base_uri": "https://localhost:8080/"
        },
        "id": "8ApTb-jYtSOm",
        "outputId": "abeb3772-f7a4-4969-b3b2-e6e92276ffa5"
      },
      "execution_count": 36,
      "outputs": [
        {
          "output_type": "stream",
          "name": "stdout",
          "text": [
            "0.5\n",
            "0.5\n"
          ]
        }
      ]
    },
    {
      "cell_type": "code",
      "source": [
        "# Merge the two datasets and divide: 60% for training, 20% validation, 20% test\n",
        "x_, y_ = np.concatenate((x_train, x_test)), np.concatenate((y_train, y_test))\n",
        "print(x_.shape, y_.shape)\n",
        "x_train, x_test, y_train, y_test = train_test_split(x_, y_, test_size=0.4, random_state=10)  # 60/40 split\n",
        "x_val, x_test, y_val, y_test = train_test_split(x_test, y_test, test_size=0.5, random_state=10)  # 50/50 split\n",
        "print(len(x_train), 'train sequences', x_train.shape)\n",
        "print(len(x_val), 'validation sequences', x_val.shape)\n",
        "print(len(x_test), 'test sequences', x_test.shape)"
      ],
      "metadata": {
        "colab": {
          "base_uri": "https://localhost:8080/"
        },
        "id": "Z53Fbicqr8tm",
        "outputId": "4caff064-f5fa-4ec3-8052-c12242848fed"
      },
      "execution_count": 37,
      "outputs": [
        {
          "output_type": "stream",
          "name": "stdout",
          "text": [
            "(50000,) (50000,)\n",
            "30000 train sequences (30000,)\n",
            "10000 validation sequences (10000,)\n",
            "10000 test sequences (10000,)\n"
          ]
        }
      ]
    },
    {
      "cell_type": "code",
      "source": [
        "x_train[0][:10]  # numbers!!"
      ],
      "metadata": {
        "colab": {
          "base_uri": "https://localhost:8080/"
        },
        "id": "5v_Hy-r8o8pR",
        "outputId": "cc621865-d1a7-4337-89d7-f5e15d068550"
      },
      "execution_count": 38,
      "outputs": [
        {
          "output_type": "execute_result",
          "data": {
            "text/plain": [
              "[1, 11531, 186, 8, 28, 6, 6482, 7, 269, 4042]"
            ]
          },
          "metadata": {},
          "execution_count": 38
        }
      ]
    },
    {
      "cell_type": "code",
      "source": [
        "# We can explore what one of the reviews looks like at this point.\n",
        "\n",
        "# Retrieve the word index file that maps words to indices\n",
        "word_index = keras.datasets.imdb.get_word_index()\n",
        "# Reverse the word index to obtain a dict mapping indices to words (which is what we have)\n",
        "inverted_word_index = dict((i, word) for (word, i) in word_index.items())\n",
        "# Decode the first sequence in the dataset\n",
        "decoded_sequence = \" \".join(inverted_word_index[i] for i in x_train[0])\n",
        "decoded_sequence"
      ],
      "metadata": {
        "colab": {
          "base_uri": "https://localhost:8080/",
          "height": 124
        },
        "id": "rgEgNSLBpFwh",
        "outputId": "449d968a-ad82-45a6-bf85-993bacf3bae6"
      },
      "execution_count": 39,
      "outputs": [
        {
          "output_type": "stream",
          "name": "stdout",
          "text": [
            "Downloading data from https://storage.googleapis.com/tensorflow/tf-keras-datasets/imdb_word_index.json\n",
            "1646592/1641221 [==============================] - 0s 0us/step\n",
            "1654784/1641221 [==============================] - 0s 0us/step\n"
          ]
        },
        {
          "output_type": "execute_result",
          "data": {
            "text/plain": [
              "\"the lilly horror in one is fatale br looks meaningless in bronson be showing as you debut film ample to and ingredients zombi ample they for series and thought she's all manipulate and believing in j show look early last quote desire tight interesting that's kind out is far shelter but of frame br and\""
            ],
            "application/vnd.google.colaboratory.intrinsic+json": {
              "type": "string"
            }
          },
          "metadata": {},
          "execution_count": 39
        }
      ]
    },
    {
      "cell_type": "code",
      "source": [
        "# Let's ensure all sequences have the same length through padding\n",
        "# - shorter reviews are padded with 0's\n",
        "# - longer reviews are cut\n",
        "print('Pad sequences')\n",
        "x_train = keras.preprocessing.sequence.pad_sequences(x_train, maxlen=maxlen)\n",
        "x_val = keras.preprocessing.sequence.pad_sequences(x_val, maxlen=maxlen)\n",
        "x_test = keras.preprocessing.sequence.pad_sequences(x_test, maxlen=maxlen)\n",
        "print('x_train shape:', x_train.shape)\n",
        "print('x_val shape:', x_val.shape)\n",
        "print('x_test shape:', x_test.shape)"
      ],
      "metadata": {
        "colab": {
          "base_uri": "https://localhost:8080/"
        },
        "id": "ibmO0V-gcthG",
        "outputId": "1bbe74e3-e5d5-4c60-d496-b41d8b3f1f16"
      },
      "execution_count": 40,
      "outputs": [
        {
          "output_type": "stream",
          "name": "stdout",
          "text": [
            "Pad sequences\n",
            "x_train shape: (30000, 500)\n",
            "x_val shape: (10000, 500)\n",
            "x_test shape: (10000, 500)\n"
          ]
        }
      ]
    },
    {
      "cell_type": "code",
      "source": [
        "# Basic feedforward model\n",
        "model = models.Sequential()\n",
        "model.add(layers.Embedding(max_features, 128, input_length=maxlen))\n",
        "model.add(layers.Dense(64, activation='relu'))\n",
        "model.add(layers.Dropout(0.5))\n",
        "model.add(layers.Dense(64, activation='relu'))\n",
        "model.add(layers.Dropout(0.5))\n",
        "model.add(layers.Flatten())\n",
        "model.add(layers.Dense(1, activation=\"sigmoid\"))\n",
        "model.summary()"
      ],
      "metadata": {
        "colab": {
          "base_uri": "https://localhost:8080/"
        },
        "id": "sBpQpwBAk44H",
        "outputId": "41cbbec3-45fd-4f7e-860a-3caaacd43281"
      },
      "execution_count": 41,
      "outputs": [
        {
          "output_type": "stream",
          "name": "stdout",
          "text": [
            "Model: \"sequential_5\"\n",
            "_________________________________________________________________\n",
            " Layer (type)                Output Shape              Param #   \n",
            "=================================================================\n",
            " embedding (Embedding)       (None, 500, 128)          1920000   \n",
            "                                                                 \n",
            " dense_6 (Dense)             (None, 500, 64)           8256      \n",
            "                                                                 \n",
            " dropout_2 (Dropout)         (None, 500, 64)           0         \n",
            "                                                                 \n",
            " dense_7 (Dense)             (None, 500, 64)           4160      \n",
            "                                                                 \n",
            " dropout_3 (Dropout)         (None, 500, 64)           0         \n",
            "                                                                 \n",
            " flatten_1 (Flatten)         (None, 32000)             0         \n",
            "                                                                 \n",
            " dense_8 (Dense)             (None, 1)                 32001     \n",
            "                                                                 \n",
            "=================================================================\n",
            "Total params: 1,964,417\n",
            "Trainable params: 1,964,417\n",
            "Non-trainable params: 0\n",
            "_________________________________________________________________\n"
          ]
        }
      ]
    },
    {
      "cell_type": "code",
      "source": [
        "model.compile(optimizer=\"rmsprop\", loss=\"binary_crossentropy\", metrics=[\"accuracy\"])\n",
        "history = model.fit(x_train, y_train, batch_size=batch_size, epochs=20, validation_data=(x_val, y_val))"
      ],
      "metadata": {
        "colab": {
          "base_uri": "https://localhost:8080/"
        },
        "id": "-8c7tCS5vrC3",
        "outputId": "574672c3-1c7d-4bf7-8eef-d042322c056b"
      },
      "execution_count": null,
      "outputs": [
        {
          "output_type": "stream",
          "name": "stdout",
          "text": [
            "Epoch 1/20\n",
            "938/938 [==============================] - 75s 79ms/step - loss: 0.4456 - accuracy: 0.7643 - val_loss: 0.2640 - val_accuracy: 0.8922\n",
            "Epoch 2/20\n",
            "938/938 [==============================] - 74s 79ms/step - loss: 0.2438 - accuracy: 0.9045 - val_loss: 0.2943 - val_accuracy: 0.8823\n",
            "Epoch 3/20\n",
            "938/938 [==============================] - 74s 79ms/step - loss: 0.2086 - accuracy: 0.9185 - val_loss: 0.2741 - val_accuracy: 0.8918\n",
            "Epoch 4/20\n",
            "938/938 [==============================] - 76s 81ms/step - loss: 0.1925 - accuracy: 0.9269 - val_loss: 0.2652 - val_accuracy: 0.8965\n",
            "Epoch 5/20\n",
            "938/938 [==============================] - 74s 79ms/step - loss: 0.1769 - accuracy: 0.9321 - val_loss: 0.2625 - val_accuracy: 0.8982\n",
            "Epoch 6/20\n",
            "938/938 [==============================] - 74s 79ms/step - loss: 0.1695 - accuracy: 0.9357 - val_loss: 0.4271 - val_accuracy: 0.8417\n",
            "Epoch 7/20\n",
            "938/938 [==============================] - 74s 79ms/step - loss: 0.1603 - accuracy: 0.9403 - val_loss: 0.3145 - val_accuracy: 0.8814\n",
            "Epoch 8/20\n",
            "938/938 [==============================] - 74s 79ms/step - loss: 0.1528 - accuracy: 0.9428 - val_loss: 0.2740 - val_accuracy: 0.8979\n",
            "Epoch 9/20\n",
            "938/938 [==============================] - 74s 79ms/step - loss: 0.1447 - accuracy: 0.9471 - val_loss: 0.2782 - val_accuracy: 0.8957\n",
            "Epoch 10/20\n",
            "938/938 [==============================] - 74s 79ms/step - loss: 0.1392 - accuracy: 0.9482 - val_loss: 0.3156 - val_accuracy: 0.8886\n",
            "Epoch 11/20\n",
            "938/938 [==============================] - 74s 78ms/step - loss: 0.1275 - accuracy: 0.9526 - val_loss: 0.4190 - val_accuracy: 0.8602\n",
            "Epoch 12/20\n",
            "938/938 [==============================] - 75s 80ms/step - loss: 0.1289 - accuracy: 0.9524 - val_loss: 0.3040 - val_accuracy: 0.8884\n",
            "Epoch 13/20\n",
            "938/938 [==============================] - 77s 82ms/step - loss: 0.1208 - accuracy: 0.9566 - val_loss: 0.3924 - val_accuracy: 0.8648\n",
            "Epoch 14/20\n",
            "938/938 [==============================] - 75s 80ms/step - loss: 0.1146 - accuracy: 0.9578 - val_loss: 0.3319 - val_accuracy: 0.8875\n",
            "Epoch 15/20\n",
            "168/938 [====>.........................] - ETA: 58s - loss: 0.1034 - accuracy: 0.9639"
          ]
        }
      ]
    },
    {
      "cell_type": "code",
      "source": [
        "plot_hist_classif(history)\n",
        "print('Test Accuracy = %.2f' % model.evaluate(x_test, y_test)[1])  # overfitting!"
      ],
      "metadata": {
        "colab": {
          "base_uri": "https://localhost:8080/",
          "height": 318
        },
        "id": "dKBVw5mHv_oX",
        "outputId": "01b16817-5689-4137-d46b-8275b712e986"
      },
      "execution_count": null,
      "outputs": [
        {
          "output_type": "display_data",
          "data": {
            "image/png": "[encoded data removed]",
            "text/plain": [
              "<Figure size 432x288 with 1 Axes>"
            ]
          },
          "metadata": {
            "needs_background": "light"
          }
        },
        {
          "output_type": "stream",
          "name": "stdout",
          "text": [
            "313/313 [==============================] - 1s 5ms/step - loss: 0.6392 - accuracy: 0.8309\n",
            "Test Accuracy = 0.83\n"
          ]
        }
      ]
    },
    {
      "cell_type": "code",
      "source": [
        "# Let's try an RNN\n",
        "model = models.Sequential()\n",
        "model.add(layers.Embedding(max_features, 64))\n",
        "model.add(layers.LSTM(128, return_sequences=False))\n",
        "model.add(layers.Dropout(0.5))\n",
        "model.add(layers.Dense(1, activation=\"sigmoid\"))\n",
        "model.compile(optimizer=\"rmsprop\", loss=\"binary_crossentropy\", metrics=[\"accuracy\"])\n",
        "model.summary()"
      ],
      "metadata": {
        "colab": {
          "base_uri": "https://localhost:8080/"
        },
        "id": "Ieh7Wl9Pwh8V",
        "outputId": "7e4d2bbc-b62c-407d-ee81-e5d62d9caa3a"
      },
      "execution_count": null,
      "outputs": [
        {
          "output_type": "stream",
          "name": "stdout",
          "text": [
            "Model: \"sequential_2\"\n",
            "_________________________________________________________________\n",
            " Layer (type)                Output Shape              Param #   \n",
            "=================================================================\n",
            " embedding_2 (Embedding)     (None, None, 64)          960000    \n",
            "                                                                 \n",
            " lstm_4 (LSTM)               (None, 128)               98816     \n",
            "                                                                 \n",
            " dropout_2 (Dropout)         (None, 128)               0         \n",
            "                                                                 \n",
            " dense_2 (Dense)             (None, 1)                 129       \n",
            "                                                                 \n",
            "=================================================================\n",
            "Total params: 1,058,945\n",
            "Trainable params: 1,058,945\n",
            "Non-trainable params: 0\n",
            "_________________________________________________________________\n"
          ]
        }
      ]
    },
    {
      "cell_type": "code",
      "source": [
        "# This model will take a long time to train, so we add an early stopping criterion\n",
        "# N.B: It's actually much faster to train WITHOUT A GPU!!\n",
        "callbacks = [EarlyStopping(monitor='val_accuracy', patience=2)]\n",
        "history = model.fit(x_train, y_train, batch_size=batch_size, epochs=20, validation_data=(x_val, y_val), callbacks=callbacks)\n",
        "plot_hist_classif(history)\n",
        "print('Test Accuracy = %.2f' % model.evaluate(x_test, y_test)[1])\n",
        "# Note that we're still overfitting, but this is just an example of use"
      ],
      "metadata": {
        "colab": {
          "base_uri": "https://localhost:8080/",
          "height": 561
        },
        "id": "Sd54xZMmxKBQ",
        "outputId": "96c092e9-eea3-4080-b720-31885daecd83"
      },
      "execution_count": null,
      "outputs": [
        {
          "output_type": "stream",
          "name": "stdout",
          "text": [
            "Epoch 1/20\n",
            "938/938 [==============================] - 476s 505ms/step - loss: 0.4209 - accuracy: 0.8129 - val_loss: 0.3985 - val_accuracy: 0.8645\n",
            "Epoch 2/20\n",
            "938/938 [==============================] - 490s 522ms/step - loss: 0.2808 - accuracy: 0.8916 - val_loss: 0.2791 - val_accuracy: 0.8866\n",
            "Epoch 3/20\n",
            "938/938 [==============================] - 475s 507ms/step - loss: 0.2338 - accuracy: 0.9130 - val_loss: 0.3231 - val_accuracy: 0.8945\n",
            "Epoch 4/20\n",
            "938/938 [==============================] - 480s 511ms/step - loss: 0.2113 - accuracy: 0.9250 - val_loss: 0.2889 - val_accuracy: 0.8817\n",
            "Epoch 5/20\n",
            "938/938 [==============================] - 468s 499ms/step - loss: 0.1846 - accuracy: 0.9347 - val_loss: 0.2552 - val_accuracy: 0.9050\n",
            "Epoch 6/20\n",
            "938/938 [==============================] - 470s 501ms/step - loss: 0.1598 - accuracy: 0.9435 - val_loss: 0.4075 - val_accuracy: 0.8703\n",
            "Epoch 7/20\n",
            "938/938 [==============================] - 472s 503ms/step - loss: 0.1433 - accuracy: 0.9517 - val_loss: 0.4536 - val_accuracy: 0.8694\n"
          ]
        },
        {
          "output_type": "display_data",
          "data": {
            "image/png": "[encoded data removed]",
            "text/plain": [
              "<Figure size 432x288 with 1 Axes>"
            ]
          },
          "metadata": {
            "needs_background": "light"
          }
        },
        {
          "output_type": "stream",
          "name": "stdout",
          "text": [
            "313/313 [==============================] - 38s 120ms/step - loss: 0.4368 - accuracy: 0.8754\n",
            "Test Accuracy = 0.88\n"
          ]
        }
      ]
    },
    {
      "cell_type": "markdown",
      "source": [
        "## Your turn!\n",
        "\n",
        "Implement a bidirectional RNN that can outperform the LSTM model we had above.\n",
        "\n",
        "A starting skeleton could be:\n",
        " \n",
        "*   Embedding layer with an output dimension of 64\n",
        "*   Bidirectional layer with a 32-neuron LSTM layer\n",
        "*   Dense layer with 1 neuron and a sigmoid activation\n",
        "\n",
        "Some suggestions:\n",
        "\n",
        "- Change the sizes of the layers (i.e., the numbers of neurons)\n",
        "- Add dropout\n",
        "- Add other recurrent and/or bidirectional layers\n",
        "\n",
        "Once you have a model that scores over 90% on the validation set, check its performance on the test set and upload it on the code checker in Moodle.\n",
        "\n",
        "Note that the model I'm suggesting above will be able to reach the desired performance, but it will show signs of overfitting. Can you do it by adding regularization (dropout, smaller network) so you don't overfit?\n"
      ],
      "metadata": {
        "id": "kzZhXm5gkz_g"
      }
    },
    {
      "cell_type": "code",
      "source": [
        "n_ = 10  # number of epochs. You can edit this\n",
        "\n",
        "model = models.Sequential()\n",
        "# YOUR CODE HERE!\n",
        "\n",
        "\n",
        "# I DON'T RECOMMEND THAT YOU CHANGE CODE AFTER THIS POINT\n",
        "model.compile(optimizer=\"rmsprop\", loss=\"binary_crossentropy\", metrics=[\"accuracy\"])\n",
        "\n",
        "print(model.summary())\n",
        "\n",
        "# This model will take a long time to train, so we add an early stopping criterion\n",
        "# I've also added a ModelCheckpoint that will save the best model according to val_accuracy regardless of whether we continue training\n",
        "callbacks = [EarlyStopping(monitor='val_accuracy', patience=1),\n",
        "             ModelCheckpoint(\"model.keras\", save_best_only=True, monitor=\"val_accuracy\", mode='max')]\n",
        "\n",
        "history = model.fit(x_train, y_train, batch_size=batch_size, epochs=n_, \n",
        "                    validation_data=(x_val, y_val), \n",
        "                    callbacks=callbacks)\n",
        "plot_hist_classif(history)\n",
        "model = keras.models.load_model(\"model.keras\")\n",
        "print('Test Accuracy = %.2f' % model.evaluate(x_test, y_test)[1])"
      ],
      "metadata": {
        "id": "jCHOC7dyadaj"
      },
      "execution_count": null,
      "outputs": []
    },
    {
      "cell_type": "code",
      "source": [
        "if model.count_params() > 1000000:\n",
        "    print(\"Due to memory constraints on Moodle, the lab quiz has a 10MB limit on your model size, so you need to use a smaller model to validate through the auto-marker.\")\n",
        "\n",
        "if history.history[\"val_accuracy\"][-1] > 0.9:\n",
        "    print(\"Your model is accurate enough!\")\n",
        "\n",
        "else:\n",
        "    print(\"Accuracy is below the threshold!\")\n",
        "    raise Exception(\"Your model isn't accurate enough to pass the progress checker!\")\n",
        "# Save the model into a local folder\n",
        "keras.models.save_model(model, \"Model.h5\",save_format='h5')\n",
        "print('Model saved! You can now upload it to the lab quiz.')"
      ],
      "metadata": {
        "id": "ZFBmg66_CR7y"
      },
      "execution_count": null,
      "outputs": []
    },
    {
      "cell_type": "code",
      "source": [
        ""
      ],
      "metadata": {
        "id": "hv7PyBQQsXav"
      },
      "execution_count": null,
      "outputs": []
    }
  ],
  "metadata": {
    "kernelspec": {
      "display_name": "Python 3",
      "language": "python",
      "name": "python3"
    },
    "language_info": {
      "codemirror_mode": {
        "name": "ipython",
        "version": 3
      },
      "file_extension": ".py",
      "mimetype": "text/x-python",
      "name": "python",
      "nbconvert_exporter": "python",
      "pygments_lexer": "ipython3",
      "version": "3.7.10"
    },
    "colab": {
      "name": "rnn.ipynb",
      "provenance": [],
      "collapsed_sections": [
        "WlhjIvZR_a0Q",
        "rloJamyvWPWj",
        "7c-duA1Z_a0R",
        "3ozUAZX__a0R"
      ],
      "include_colab_link": true
    }
  },
  "nbformat": 4,
  "nbformat_minor": 0
}